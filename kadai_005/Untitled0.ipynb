{
  "nbformat": 4,
  "nbformat_minor": 0,
  "metadata": {
    "colab": {
      "provenance": []
    },
    "kernelspec": {
      "name": "python3",
      "display_name": "Python 3"
    },
    "language_info": {
      "name": "python"
    }
  },
  "cells": [
    {
      "cell_type": "markdown",
      "source": [],
      "metadata": {
        "id": "CI67VIH2QSgL"
      }
    },
    {
      "cell_type": "code",
      "source": [
        "top=10\n",
        "bottom=20\n",
        "height=5\n",
        "formula=(top+bottom)*height/2\n",
        "\n",
        "print(f\"台形の面積は{formula}cm²です。\")"
      ],
      "metadata": {
        "colab": {
          "base_uri": "https://localhost:8080/"
        },
        "id": "qoeswkZFWzBH",
        "outputId": "e086bfa7-3cfb-4486-8ffc-c51e491b043d"
      },
      "execution_count": 18,
      "outputs": [
        {
          "output_type": "stream",
          "name": "stdout",
          "text": [
            "台形の面積は75.0cm²です。\n"
          ]
        }
      ]
    }
  ]
}