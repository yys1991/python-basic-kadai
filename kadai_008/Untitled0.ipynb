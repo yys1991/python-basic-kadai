{
  "nbformat": 4,
  "nbformat_minor": 0,
  "metadata": {
    "colab": {
      "provenance": []
    },
    "kernelspec": {
      "name": "python3",
      "display_name": "Python 3"
    },
    "language_info": {
      "name": "python"
    }
  },
  "cells": [
    {
      "cell_type": "markdown",
      "source": [],
      "metadata": {
        "id": "CI67VIH2QSgL"
      }
    },
    {
      "cell_type": "code",
      "source": [
        "varz=15\n",
        "if varz%3==0 and varz%5==0:\n",
        "  print(\"FizzBuzz\")\n",
        "\n",
        "elif varz%3==0:\n",
        "  print(\"Fizz\")\n",
        "\n",
        "elif varz%5==0:\n",
        "  print(\"Buzz\")\n",
        "\n",
        "else:\n",
        "  print(varz)\n",
        ""
      ],
      "metadata": {
        "colab": {
          "base_uri": "https://localhost:8080/"
        },
        "id": "PJv0LDfJofHs",
        "outputId": "c9b7ff96-8577-4a12-d8c5-2172b406a66f"
      },
      "execution_count": 44,
      "outputs": [
        {
          "output_type": "stream",
          "name": "stdout",
          "text": [
            "FizzBuzz\n"
          ]
        }
      ]
    }
  ]
}