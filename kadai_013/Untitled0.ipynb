{
  "nbformat": 4,
  "nbformat_minor": 0,
  "metadata": {
    "colab": {
      "provenance": []
    },
    "kernelspec": {
      "name": "python3",
      "display_name": "Python 3"
    },
    "language_info": {
      "name": "python"
    }
  },
  "cells": [
    {
      "cell_type": "code",
      "source": [
        "def calculate_total_price(product_price, tax_price):\n",
        "    tax = product_price * tax_price\n",
        "    total = product_price + tax\n",
        "    return total\n",
        "\n",
        "\n",
        "product_price=1000\n",
        "tax_price=0.1\n",
        "total=calculate_total_price(product_price, tax_price)\n",
        "print(f\"商品の金額{product_price}円\")\n",
        "print(f\"消費税{tax_price}%\")\n",
        "print(f\"合計金額{total}円\")\n"
      ],
      "metadata": {
        "colab": {
          "base_uri": "https://localhost:8080/"
        },
        "id": "Aaez3Xqc5N6V",
        "outputId": "29d95361-046e-4702-d95f-30a536386139"
      },
      "execution_count": 169,
      "outputs": [
        {
          "output_type": "stream",
          "name": "stdout",
          "text": [
            "商品の金額1000円\n",
            "消費税0.1%\n",
            "合計金額1100.0円\n"
          ]
        }
      ]
    }
  ]
}