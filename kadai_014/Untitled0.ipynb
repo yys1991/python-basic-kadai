{
  "cells": [
    {
      "cell_type": "code",
      "execution_count": 7,
      "metadata": {
        "colab": {
          "base_uri": "https://localhost:8080/"
        },
        "id": "0Hfs7gvbfHR8",
        "outputId": "32eb698f-8d4d-41e2-875b-1e9a6fa5aa27"
      },
      "outputs": [
        {
          "name": "stdout",
          "output_type": "stream",
          "text": [
            "330.0\n"
          ]
        }
      ],
      "source": [
        "price1=100\n",
        "price2=200\n",
        "tax=1.1\n",
        "\n",
        "def total():\n",
        "    return price1+price2\n",
        "\n",
        "print(total()*tax)"
      ]
    }
  ],
  "metadata": {
    "colab": {
      "provenance": []
    },
    "kernelspec": {
      "display_name": "Python 3",
      "name": "python3"
    },
    "language_info": {
      "name": "python"
    }
  },
  "nbformat": 4,
  "nbformat_minor": 0
}
