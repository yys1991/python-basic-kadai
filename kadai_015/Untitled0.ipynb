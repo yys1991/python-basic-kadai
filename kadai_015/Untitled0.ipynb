{
  "nbformat": 4,
  "nbformat_minor": 0,
  "metadata": {
    "colab": {
      "provenance": []
    },
    "kernelspec": {
      "name": "python3",
      "display_name": "Python 3"
    },
    "language_info": {
      "name": "python"
    }
  },
  "cells": [
    {
      "cell_type": "code",
      "source": [
        "class Human:\n",
        "    def __init__(self,name,age):\n",
        "        self.name=name\n",
        "        self.age=age\n",
        "\n",
        "    def printinfo(self):\n",
        "        print(f\"名前:{self.name},年齢:{self.age}\")\n",
        "\n",
        "\n",
        "person=Human(\"侍太郎\",36)\n",
        "\n",
        "person.printinfo()"
      ],
      "metadata": {
        "colab": {
          "base_uri": "https://localhost:8080/"
        },
        "id": "8LNlLa82_kwo",
        "outputId": "3b53eabb-f08f-4df3-8d37-c7b25e343b79"
      },
      "execution_count": 30,
      "outputs": [
        {
          "output_type": "stream",
          "name": "stdout",
          "text": [
            "名前:侍太郎,年齢:36\n"
          ]
        }
      ]
    }
  ]
}