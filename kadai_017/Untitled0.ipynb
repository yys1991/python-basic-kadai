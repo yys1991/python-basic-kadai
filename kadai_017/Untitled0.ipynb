{
  "nbformat": 4,
  "nbformat_minor": 0,
  "metadata": {
    "colab": {
      "provenance": []
    },
    "kernelspec": {
      "name": "python3",
      "display_name": "Python 3"
    },
    "language_info": {
      "name": "python"
    }
  },
  "cells": [
    {
      "cell_type": "code",
      "source": [
        "class Human:\n",
        "    def __init__(self,name,age):\n",
        "        self.name=name\n",
        "        self.age=age\n",
        "\n",
        "    def check_adult(self):\n",
        "        if self.age>=20:\n",
        "            print(f\"{self.name}は大人です。\")\n",
        "        else:\n",
        "            print(f\"{self.name}は大人ではありません。\")\n",
        "\n",
        "humans=[\n",
        "      Human(\"太郎\",25),\n",
        "      Human(\"花子\",25),\n",
        "      Human(\"次郎\",25)\n",
        "]\n",
        "\n",
        "for human in humans:\n",
        "    human.check_adult()"
      ],
      "metadata": {
        "colab": {
          "base_uri": "https://localhost:8080/"
        },
        "id": "Qu5HrVdI_qfq",
        "outputId": "56c9f959-58e1-4b8c-b73b-8d3421c1a998"
      },
      "execution_count": 7,
      "outputs": [
        {
          "output_type": "stream",
          "name": "stdout",
          "text": [
            "太郎は大人です。\n",
            "花子は大人です。\n",
            "次郎は大人です。\n"
          ]
        }
      ]
    }
  ]
}